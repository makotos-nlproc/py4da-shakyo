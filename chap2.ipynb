{
 "metadata": {
  "language_info": {
   "codemirror_mode": {
    "name": "ipython",
    "version": 3
   },
   "file_extension": ".py",
   "mimetype": "text/x-python",
   "name": "python",
   "nbconvert_exporter": "python",
   "pygments_lexer": "ipython3",
   "version": "3.8.5-final"
  },
  "orig_nbformat": 2,
  "kernelspec": {
   "name": "python_defaultSpec_1599270700481",
   "display_name": "Python 3.8.5 64-bit ('py4dashakyo': conda)"
  }
 },
 "nbformat": 4,
 "nbformat_minor": 2,
 "cells": [
  {
   "cell_type": "markdown",
   "metadata": {},
   "source": [
    "# 第2章\n",
    "\n",
    "## オブジェクトイントロスペクション\n",
    "変数や関数の前後に疑問符?をつけて情報をみることができる\n",
    "\n",
    "## マジックコマンド\n",
    "- %run {file}.py\n",
    "- %run -i {file}.py\n",
    "- %load {file}.py\n",
    "- %paste\n",
    "- %cpaste"
   ]
  }
 ]
}