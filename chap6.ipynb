{
 "metadata": {
  "language_info": {
   "codemirror_mode": {
    "name": "ipython",
    "version": 3
   },
   "file_extension": ".py",
   "mimetype": "text/x-python",
   "name": "python",
   "nbconvert_exporter": "python",
   "pygments_lexer": "ipython3",
   "version": "3.8.5-final"
  },
  "orig_nbformat": 2,
  "kernelspec": {
   "name": "Python 3.8.5 64-bit ('py4dashakyo': conda)",
   "display_name": "Python 3.8.5 64-bit ('py4dashakyo': conda)",
   "metadata": {
    "interpreter": {
     "hash": "e4d6f136c2808b1f9a4cefd447bfa7038f15cf0f9b810e5d6ec1ecf3666d28e8"
    }
   }
  }
 },
 "nbformat": 4,
 "nbformat_minor": 2,
 "cells": [
  {
   "source": [
    "# 6章"
   ],
   "cell_type": "markdown",
   "metadata": {}
  },
  {
   "cell_type": "code",
   "execution_count": 4,
   "metadata": {},
   "outputs": [
    {
     "output_type": "stream",
     "name": "stdout",
     "text": [
      " �h���C�u C �̃{�����[�� ���x��������܂���B\n �{�����[�� �V���A���ԍ��� 1A3F-07BB �ł�\n\n c:\\Users\\makoto\\py4da_shakyo �̃f�B���N�g��\n\n2020/10/03  09:36    <DIR>          .\n2020/10/03  09:36    <DIR>          ..\n2020/09/05  09:45                19 .gitignore\n2020/09/05  00:12    <DIR>          .vscode\n2020/09/20  18:13               382 arrays_compressed.npz\n2020/09/20  18:11               434 array_archive.npz\n2020/09/07  22:44               923 chap2.ipynb\n2020/09/13  17:53            46,790 chap3.ipynb\n2020/09/20  18:52           150,464 chap4.ipynb\n2020/10/02  19:53           137,282 chap5.ipynb\n2020/10/22  23:35             1,295 chap6.ipynb\n2020/10/09  23:26           307,848 chap9.ipynb\n2020/09/05  11:54                79 ipython_run_test.py\n2020/10/03  09:45               720 README.md\n2020/09/20  18:09               120 some_array.npy\n              12 �̃t�@�C��             646,356 �o�C�g\n               3 �̃f�B���N�g��  843,353,567,232 �o�C�g�̋󂫗̈�\n"
     ]
    }
   ],
   "source": [
    "!dir"
   ]
  },
  {
   "cell_type": "code",
   "execution_count": null,
   "metadata": {},
   "outputs": [],
   "source": []
  }
 ]
}